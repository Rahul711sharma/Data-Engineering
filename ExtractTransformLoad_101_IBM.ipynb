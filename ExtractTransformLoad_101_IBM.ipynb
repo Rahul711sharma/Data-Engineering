{
  "nbformat": 4,
  "nbformat_minor": 0,
  "metadata": {
    "kernelspec": {
      "display_name": "Python 3",
      "language": "python",
      "name": "python3"
    },
    "language_info": {
      "codemirror_mode": {
        "name": "ipython",
        "version": 3
      },
      "file_extension": ".py",
      "mimetype": "text/x-python",
      "name": "python",
      "nbconvert_exporter": "python",
      "pygments_lexer": "ipython3",
      "version": "3.8.0"
    },
    "colab": {
      "name": "ExtractTransformLoad- 101 - IBM.ipynb",
      "provenance": [],
      "include_colab_link": true
    }
  },
  "cells": [
    {
      "cell_type": "markdown",
      "metadata": {
        "id": "view-in-github",
        "colab_type": "text"
      },
      "source": [
        "<a href=\"https://colab.research.google.com/github/Rahul711sharma/Data-Engineering/blob/main/ExtractTransformLoad_101_IBM.ipynb\" target=\"_parent\"><img src=\"https://colab.research.google.com/assets/colab-badge.svg\" alt=\"Open In Colab\"/></a>"
      ]
    },
    {
      "cell_type": "markdown",
      "metadata": {
        "id": "indK1Lhuu_Jc"
      },
      "source": [
        "## Objectives\n",
        "\n",
        "After completing this lab you will be able to:\n",
        "\n",
        "-   Read CSV and JSON file types.\n",
        "-   Extract data from the above file types.\n",
        "-   Transform data.\n",
        "-   Save the transformed data in a ready-to-load format which data engineers can use to load into an RDBMS.\n"
      ]
    },
    {
      "cell_type": "markdown",
      "metadata": {
        "id": "6LQtX5pAu_Jd"
      },
      "source": [
        "Import the required modules and functions\n"
      ]
    },
    {
      "cell_type": "code",
      "metadata": {
        "id": "v0R6A6Rju_Jf"
      },
      "source": [
        "import glob                         # this module helps in selecting files \n",
        "import pandas as pd                 # this module helps in processing CSV files\n",
        "import xml.etree.ElementTree as ET  # this module helps in processing XML files.\n",
        "from datetime import datetime\n",
        "import xml"
      ],
      "execution_count": 35,
      "outputs": []
    },
    {
      "cell_type": "markdown",
      "metadata": {
        "id": "U2uQP857u_Ji"
      },
      "source": [
        "## Download Files\n"
      ]
    },
    {
      "cell_type": "code",
      "metadata": {
        "colab": {
          "base_uri": "https://localhost:8080/"
        },
        "id": "q27mQMBWu_Jk",
        "outputId": "eda22761-4ade-4b3b-ac1d-34ee4b9c47fc"
      },
      "source": [
        "!wget https://cf-courses-data.s3.us.cloud-object-storage.appdomain.cloud/IBMDeveloperSkillsNetwork-PY0221EN-SkillsNetwork/labs/module%206/Lab%20-%20Extract%20Transform%20Load/data/source.zip"
      ],
      "execution_count": 36,
      "outputs": [
        {
          "output_type": "stream",
          "text": [
            "--2021-06-08 05:26:45--  https://cf-courses-data.s3.us.cloud-object-storage.appdomain.cloud/IBMDeveloperSkillsNetwork-PY0221EN-SkillsNetwork/labs/module%206/Lab%20-%20Extract%20Transform%20Load/data/source.zip\n",
            "Resolving cf-courses-data.s3.us.cloud-object-storage.appdomain.cloud (cf-courses-data.s3.us.cloud-object-storage.appdomain.cloud)... 169.63.118.104\n",
            "Connecting to cf-courses-data.s3.us.cloud-object-storage.appdomain.cloud (cf-courses-data.s3.us.cloud-object-storage.appdomain.cloud)|169.63.118.104|:443... connected.\n",
            "HTTP request sent, awaiting response... 200 OK\n",
            "Length: 2707 (2.6K) [application/zip]\n",
            "Saving to: ‘source.zip.2’\n",
            "\n",
            "\rsource.zip.2          0%[                    ]       0  --.-KB/s               \rsource.zip.2        100%[===================>]   2.64K  --.-KB/s    in 0s      \n",
            "\n",
            "2021-06-08 05:26:45 (737 MB/s) - ‘source.zip.2’ saved [2707/2707]\n",
            "\n"
          ],
          "name": "stdout"
        }
      ]
    },
    {
      "cell_type": "markdown",
      "metadata": {
        "id": "qXb3mHCyu_Jm"
      },
      "source": [
        "## Unzip Files\n",
        "\n",
        "> Indented block\n",
        "\n",
        "> Indented block\n",
        "\n",
        "\n",
        "\n",
        "\n"
      ]
    },
    {
      "cell_type": "code",
      "metadata": {
        "colab": {
          "base_uri": "https://localhost:8080/"
        },
        "id": "deG_FRwku_Jq",
        "outputId": "7100495e-9e2d-449f-92b6-59d46e814644"
      },
      "source": [
        "!unzip source.zip"
      ],
      "execution_count": 37,
      "outputs": [
        {
          "output_type": "stream",
          "text": [
            "Archive:  source.zip\n",
            "replace source3.json? [y]es, [n]o, [A]ll, [N]one, [r]ename: A\n",
            "  inflating: source3.json            \n",
            "  inflating: source1.csv             \n",
            "  inflating: source2.csv             \n",
            "  inflating: source3.csv             \n",
            "  inflating: source1.json            \n",
            "  inflating: source2.json            \n",
            "  inflating: source1.xml             \n",
            "  inflating: source2.xml             \n",
            "  inflating: source3.xml             \n"
          ],
          "name": "stdout"
        }
      ]
    },
    {
      "cell_type": "markdown",
      "metadata": {
        "id": "F1wdIZLiu_Jt"
      },
      "source": [
        "\n",
        "## Set Paths\n"
      ]
    },
    {
      "cell_type": "code",
      "metadata": {
        "id": "pblb5jqnu_Jv"
      },
      "source": [
        "tmpfile    = \"temp.tmp\"               # file used to store all extracted data\n",
        "logfile    = \"logfile.txt\"            # all event logs will be stored in this file\n",
        "targetfile = \"transformed_data.csv\"   # file where transformed data is stored"
      ],
      "execution_count": 54,
      "outputs": []
    },
    {
      "cell_type": "markdown",
      "metadata": {
        "id": "g_A66EWiu_Jy"
      },
      "source": [
        "## Extract\n"
      ]
    },
    {
      "cell_type": "markdown",
      "metadata": {
        "id": "DpQRJm_Ru_Jz"
      },
      "source": [
        "### CSV Extract Function\n"
      ]
    },
    {
      "cell_type": "code",
      "metadata": {
        "id": "zVrXGqZuu_J0"
      },
      "source": [
        "def extract_from_csv(file_to_process):\n",
        "    dataframe = pd.read_csv(file_to_process)\n",
        "    return dataframe"
      ],
      "execution_count": 55,
      "outputs": []
    },
    {
      "cell_type": "markdown",
      "metadata": {
        "id": "-jpQaEIhu_J2"
      },
      "source": [
        "### JSON Extract Function\n"
      ]
    },
    {
      "cell_type": "code",
      "metadata": {
        "id": "Bj9RmkEku_J4"
      },
      "source": [
        "def extract_from_json(file_to_process):\n",
        "    dataframe = pd.read_json(file_to_process,lines=True)\n",
        "    return dataframe"
      ],
      "execution_count": 56,
      "outputs": []
    },
    {
      "cell_type": "code",
      "metadata": {
        "colab": {
          "base_uri": "https://localhost:8080/",
          "height": 173
        },
        "id": "DhyoG-tpIcg9",
        "outputId": "0829f73f-bb58-4289-be43-99a4db9b0eb0"
      },
      "source": [
        "pd.read_json('source1.json',lines=1)"
      ],
      "execution_count": 78,
      "outputs": [
        {
          "output_type": "execute_result",
          "data": {
            "text/html": [
              "<div>\n",
              "<style scoped>\n",
              "    .dataframe tbody tr th:only-of-type {\n",
              "        vertical-align: middle;\n",
              "    }\n",
              "\n",
              "    .dataframe tbody tr th {\n",
              "        vertical-align: top;\n",
              "    }\n",
              "\n",
              "    .dataframe thead th {\n",
              "        text-align: right;\n",
              "    }\n",
              "</style>\n",
              "<table border=\"1\" class=\"dataframe\">\n",
              "  <thead>\n",
              "    <tr style=\"text-align: right;\">\n",
              "      <th></th>\n",
              "      <th>name</th>\n",
              "      <th>height</th>\n",
              "      <th>weight</th>\n",
              "    </tr>\n",
              "  </thead>\n",
              "  <tbody>\n",
              "    <tr>\n",
              "      <th>0</th>\n",
              "      <td>jack</td>\n",
              "      <td>68.70</td>\n",
              "      <td>123.30</td>\n",
              "    </tr>\n",
              "    <tr>\n",
              "      <th>1</th>\n",
              "      <td>tom</td>\n",
              "      <td>69.80</td>\n",
              "      <td>141.49</td>\n",
              "    </tr>\n",
              "    <tr>\n",
              "      <th>2</th>\n",
              "      <td>tracy</td>\n",
              "      <td>70.01</td>\n",
              "      <td>136.46</td>\n",
              "    </tr>\n",
              "    <tr>\n",
              "      <th>3</th>\n",
              "      <td>john</td>\n",
              "      <td>67.90</td>\n",
              "      <td>112.37</td>\n",
              "    </tr>\n",
              "  </tbody>\n",
              "</table>\n",
              "</div>"
            ],
            "text/plain": [
              "    name  height  weight\n",
              "0   jack   68.70  123.30\n",
              "1    tom   69.80  141.49\n",
              "2  tracy   70.01  136.46\n",
              "3   john   67.90  112.37"
            ]
          },
          "metadata": {
            "tags": []
          },
          "execution_count": 78
        }
      ]
    },
    {
      "cell_type": "markdown",
      "metadata": {
        "id": "zTfPTitBu_J5"
      },
      "source": [
        "### XML Extract Function\n"
      ]
    },
    {
      "cell_type": "code",
      "metadata": {
        "id": "EjT_XAyru_J5"
      },
      "source": [
        "def extract_from_xml(file_to_process):\n",
        "    dataframe = pd.DataFrame(columns=[\"name\", \"height\", \"weight\"])\n",
        "    tree = ET.parse(file_to_process)\n",
        "    root = tree.getroot()\n",
        "    for person in root:\n",
        "        name = person.find(\"name\").text\n",
        "        height = float(person.find(\"height\").text)\n",
        "        weight = float(person.find(\"weight\").text)\n",
        "        dataframe = dataframe.append({\"name\":name, \"height\":height, \"weight\":weight}, ignore_index=True)\n",
        "    return dataframe"
      ],
      "execution_count": 57,
      "outputs": []
    },
    {
      "cell_type": "code",
      "metadata": {
        "colab": {
          "base_uri": "https://localhost:8080/",
          "height": 173
        },
        "id": "26HH6LJcKwUU",
        "outputId": "c0ed208d-4340-44e4-f01a-3e79a308834b"
      },
      "source": [
        "extract_from_xml('source1.xml')"
      ],
      "execution_count": 80,
      "outputs": [
        {
          "output_type": "execute_result",
          "data": {
            "text/html": [
              "<div>\n",
              "<style scoped>\n",
              "    .dataframe tbody tr th:only-of-type {\n",
              "        vertical-align: middle;\n",
              "    }\n",
              "\n",
              "    .dataframe tbody tr th {\n",
              "        vertical-align: top;\n",
              "    }\n",
              "\n",
              "    .dataframe thead th {\n",
              "        text-align: right;\n",
              "    }\n",
              "</style>\n",
              "<table border=\"1\" class=\"dataframe\">\n",
              "  <thead>\n",
              "    <tr style=\"text-align: right;\">\n",
              "      <th></th>\n",
              "      <th>name</th>\n",
              "      <th>height</th>\n",
              "      <th>weight</th>\n",
              "    </tr>\n",
              "  </thead>\n",
              "  <tbody>\n",
              "    <tr>\n",
              "      <th>0</th>\n",
              "      <td>simon</td>\n",
              "      <td>67.90</td>\n",
              "      <td>112.37</td>\n",
              "    </tr>\n",
              "    <tr>\n",
              "      <th>1</th>\n",
              "      <td>jacob</td>\n",
              "      <td>66.78</td>\n",
              "      <td>120.67</td>\n",
              "    </tr>\n",
              "    <tr>\n",
              "      <th>2</th>\n",
              "      <td>cindy</td>\n",
              "      <td>66.49</td>\n",
              "      <td>127.45</td>\n",
              "    </tr>\n",
              "    <tr>\n",
              "      <th>3</th>\n",
              "      <td>ivan</td>\n",
              "      <td>67.62</td>\n",
              "      <td>114.14</td>\n",
              "    </tr>\n",
              "  </tbody>\n",
              "</table>\n",
              "</div>"
            ],
            "text/plain": [
              "    name  height  weight\n",
              "0  simon   67.90  112.37\n",
              "1  jacob   66.78  120.67\n",
              "2  cindy   66.49  127.45\n",
              "3   ivan   67.62  114.14"
            ]
          },
          "metadata": {
            "tags": []
          },
          "execution_count": 80
        }
      ]
    },
    {
      "cell_type": "markdown",
      "metadata": {
        "id": "wE1En29Ku_J9"
      },
      "source": [
        "### Extract Function\n"
      ]
    },
    {
      "cell_type": "code",
      "metadata": {
        "id": "1eZb_z3Ru_J-"
      },
      "source": [
        "def extract():\n",
        "    extracted_data = pd.DataFrame(columns=['name','height','weight']) # create an empty data frame to hold extracted data\n",
        "    \n",
        "    #process all csv files\n",
        "    for csvfile in glob.glob(\"*.csv\"):\n",
        "        extracted_data = extracted_data.append(extract_from_csv(csvfile), ignore_index=True)\n",
        "        \n",
        "    #process all json files\n",
        "    for jsonfile in glob.glob(\"*.json\"):\n",
        "        extracted_data = extracted_data.append(extract_from_json(jsonfile), ignore_index=True)\n",
        "    \n",
        "    #process all xml files\n",
        "    for xmlfile in glob.glob(\"*.xml\"):\n",
        "        extracted_data = extracted_data.append(extract_from_xml(xmlfile), ignore_index=True)\n",
        "        \n",
        "    return extracted_data"
      ],
      "execution_count": 58,
      "outputs": []
    },
    {
      "cell_type": "code",
      "metadata": {
        "colab": {
          "base_uri": "https://localhost:8080/"
        },
        "id": "ux3UngdM41zL",
        "outputId": "4baa19df-c2b8-4dd8-d084-33e35bbf71d7"
      },
      "source": [
        "glob.glob(\"*.csv\")"
      ],
      "execution_count": 59,
      "outputs": [
        {
          "output_type": "execute_result",
          "data": {
            "text/plain": [
              "['source3.csv', 'source1.csv', 'source2.csv']"
            ]
          },
          "metadata": {
            "tags": []
          },
          "execution_count": 59
        }
      ]
    },
    {
      "cell_type": "code",
      "metadata": {
        "colab": {
          "base_uri": "https://localhost:8080/"
        },
        "id": "_PHgU4NR6S-k",
        "outputId": "59eeb7e3-1047-4e44-cafb-2423960ea4e9"
      },
      "source": [
        "glob.glob(\"*.xml\")"
      ],
      "execution_count": 60,
      "outputs": [
        {
          "output_type": "execute_result",
          "data": {
            "text/plain": [
              "['source2.xml', 'source3.xml', 'source1.xml']"
            ]
          },
          "metadata": {
            "tags": []
          },
          "execution_count": 60
        }
      ]
    },
    {
      "cell_type": "markdown",
      "metadata": {
        "id": "D1FxkB7Su_KB"
      },
      "source": [
        "## Transform\n"
      ]
    },
    {
      "cell_type": "markdown",
      "metadata": {
        "id": "qfKgr_gvu_KC"
      },
      "source": [
        "The transform function does the following tasks.\n",
        "\n",
        "1.  Convert height which is in inches to millimeter\n",
        "2.  Convert weight which is in pounds to kilograms\n"
      ]
    },
    {
      "cell_type": "code",
      "metadata": {
        "id": "57GtHCPku_KD"
      },
      "source": [
        "def transform(data):\n",
        "        #Convert height which is in inches to millimeter\n",
        "        #Convert the datatype of the column into float\n",
        "        #data.height = data.height.astype(float)\n",
        "        #Convert inches to meters and round off to two decimals(one inch is 0.0254 meters)\n",
        "        data['height'] = round(data.height * 0.0254,2)\n",
        "        \n",
        "        #Convert weight which is in pounds to kilograms\n",
        "        #Convert the datatype of the column into float\n",
        "        #data.weight = data.weight.astype(float)\n",
        "        #Convert pounds to kilograms and round off to two decimals(one pound is 0.45359237 kilograms)\n",
        "        data['weight'] = round(data.weight * 0.45359237,2)\n",
        "        return data"
      ],
      "execution_count": 61,
      "outputs": []
    },
    {
      "cell_type": "markdown",
      "metadata": {
        "id": "G6AvZwObu_KF"
      },
      "source": [
        "## Loading\n"
      ]
    },
    {
      "cell_type": "code",
      "metadata": {
        "id": "vqYz0bZ1u_KG"
      },
      "source": [
        "def load(targetfile,data_to_load):\n",
        "    data_to_load.to_csv(targetfile)"
      ],
      "execution_count": 62,
      "outputs": []
    },
    {
      "cell_type": "markdown",
      "metadata": {
        "id": "VPCUn5cyu_KH"
      },
      "source": [
        "## Logging\n"
      ]
    },
    {
      "cell_type": "code",
      "metadata": {
        "id": "0x4aKtdfu_KI"
      },
      "source": [
        "def log(message):\n",
        "    timestamp_format = '%Y-%h-%d-%H:%M:%S' # Year-Monthname-Day-Hour-Minute-Second\n",
        "    now = datetime.now() # get current timestamp\n",
        "    timestamp = now.strftime(timestamp_format)\n",
        "    with open(\"logfile.txt\",\"a\") as f:\n",
        "        f.write(timestamp + ',' + message + '\\n')"
      ],
      "execution_count": 63,
      "outputs": []
    },
    {
      "cell_type": "markdown",
      "metadata": {
        "id": "rfeqx89_u_KO"
      },
      "source": [
        "## Running ETL Process\n"
      ]
    },
    {
      "cell_type": "code",
      "metadata": {
        "id": "Hmzdsstnu_KP"
      },
      "source": [
        "log(\"ETL Job Started\")"
      ],
      "execution_count": 64,
      "outputs": []
    },
    {
      "cell_type": "code",
      "metadata": {
        "colab": {
          "base_uri": "https://localhost:8080/",
          "height": 1000
        },
        "id": "WUfyl30qu_KQ",
        "outputId": "d3688e46-bc79-44e8-c210-c1207a4345d8"
      },
      "source": [
        "log(\"Extract phase Started\")\n",
        "extracted_data = extract()\n",
        "log(\"Extract phase Ended\")\n",
        "extracted_data"
      ],
      "execution_count": 65,
      "outputs": [
        {
          "output_type": "execute_result",
          "data": {
            "text/html": [
              "<div>\n",
              "<style scoped>\n",
              "    .dataframe tbody tr th:only-of-type {\n",
              "        vertical-align: middle;\n",
              "    }\n",
              "\n",
              "    .dataframe tbody tr th {\n",
              "        vertical-align: top;\n",
              "    }\n",
              "\n",
              "    .dataframe thead th {\n",
              "        text-align: right;\n",
              "    }\n",
              "</style>\n",
              "<table border=\"1\" class=\"dataframe\">\n",
              "  <thead>\n",
              "    <tr style=\"text-align: right;\">\n",
              "      <th></th>\n",
              "      <th>name</th>\n",
              "      <th>height</th>\n",
              "      <th>weight</th>\n",
              "    </tr>\n",
              "  </thead>\n",
              "  <tbody>\n",
              "    <tr>\n",
              "      <th>0</th>\n",
              "      <td>alex</td>\n",
              "      <td>65.78</td>\n",
              "      <td>112.99</td>\n",
              "    </tr>\n",
              "    <tr>\n",
              "      <th>1</th>\n",
              "      <td>ajay</td>\n",
              "      <td>71.52</td>\n",
              "      <td>136.49</td>\n",
              "    </tr>\n",
              "    <tr>\n",
              "      <th>2</th>\n",
              "      <td>alice</td>\n",
              "      <td>69.40</td>\n",
              "      <td>153.03</td>\n",
              "    </tr>\n",
              "    <tr>\n",
              "      <th>3</th>\n",
              "      <td>ravi</td>\n",
              "      <td>68.22</td>\n",
              "      <td>142.34</td>\n",
              "    </tr>\n",
              "    <tr>\n",
              "      <th>4</th>\n",
              "      <td>joe</td>\n",
              "      <td>67.79</td>\n",
              "      <td>144.30</td>\n",
              "    </tr>\n",
              "    <tr>\n",
              "      <th>5</th>\n",
              "      <td>alex</td>\n",
              "      <td>65.78</td>\n",
              "      <td>112.99</td>\n",
              "    </tr>\n",
              "    <tr>\n",
              "      <th>6</th>\n",
              "      <td>ajay</td>\n",
              "      <td>71.52</td>\n",
              "      <td>136.49</td>\n",
              "    </tr>\n",
              "    <tr>\n",
              "      <th>7</th>\n",
              "      <td>alice</td>\n",
              "      <td>69.40</td>\n",
              "      <td>153.03</td>\n",
              "    </tr>\n",
              "    <tr>\n",
              "      <th>8</th>\n",
              "      <td>ravi</td>\n",
              "      <td>68.22</td>\n",
              "      <td>142.34</td>\n",
              "    </tr>\n",
              "    <tr>\n",
              "      <th>9</th>\n",
              "      <td>joe</td>\n",
              "      <td>67.79</td>\n",
              "      <td>144.30</td>\n",
              "    </tr>\n",
              "    <tr>\n",
              "      <th>10</th>\n",
              "      <td>alex</td>\n",
              "      <td>65.78</td>\n",
              "      <td>112.99</td>\n",
              "    </tr>\n",
              "    <tr>\n",
              "      <th>11</th>\n",
              "      <td>ajay</td>\n",
              "      <td>71.52</td>\n",
              "      <td>136.49</td>\n",
              "    </tr>\n",
              "    <tr>\n",
              "      <th>12</th>\n",
              "      <td>alice</td>\n",
              "      <td>69.40</td>\n",
              "      <td>153.03</td>\n",
              "    </tr>\n",
              "    <tr>\n",
              "      <th>13</th>\n",
              "      <td>ravi</td>\n",
              "      <td>68.22</td>\n",
              "      <td>142.34</td>\n",
              "    </tr>\n",
              "    <tr>\n",
              "      <th>14</th>\n",
              "      <td>joe</td>\n",
              "      <td>67.79</td>\n",
              "      <td>144.30</td>\n",
              "    </tr>\n",
              "    <tr>\n",
              "      <th>15</th>\n",
              "      <td>jack</td>\n",
              "      <td>68.70</td>\n",
              "      <td>123.30</td>\n",
              "    </tr>\n",
              "    <tr>\n",
              "      <th>16</th>\n",
              "      <td>tom</td>\n",
              "      <td>69.80</td>\n",
              "      <td>141.49</td>\n",
              "    </tr>\n",
              "    <tr>\n",
              "      <th>17</th>\n",
              "      <td>tracy</td>\n",
              "      <td>70.01</td>\n",
              "      <td>136.46</td>\n",
              "    </tr>\n",
              "    <tr>\n",
              "      <th>18</th>\n",
              "      <td>john</td>\n",
              "      <td>67.90</td>\n",
              "      <td>112.37</td>\n",
              "    </tr>\n",
              "    <tr>\n",
              "      <th>19</th>\n",
              "      <td>jack</td>\n",
              "      <td>68.70</td>\n",
              "      <td>123.30</td>\n",
              "    </tr>\n",
              "    <tr>\n",
              "      <th>20</th>\n",
              "      <td>tom</td>\n",
              "      <td>69.80</td>\n",
              "      <td>141.49</td>\n",
              "    </tr>\n",
              "    <tr>\n",
              "      <th>21</th>\n",
              "      <td>tracy</td>\n",
              "      <td>70.01</td>\n",
              "      <td>136.46</td>\n",
              "    </tr>\n",
              "    <tr>\n",
              "      <th>22</th>\n",
              "      <td>john</td>\n",
              "      <td>67.90</td>\n",
              "      <td>112.37</td>\n",
              "    </tr>\n",
              "    <tr>\n",
              "      <th>23</th>\n",
              "      <td>jack</td>\n",
              "      <td>68.70</td>\n",
              "      <td>123.30</td>\n",
              "    </tr>\n",
              "    <tr>\n",
              "      <th>24</th>\n",
              "      <td>tom</td>\n",
              "      <td>69.80</td>\n",
              "      <td>141.49</td>\n",
              "    </tr>\n",
              "    <tr>\n",
              "      <th>25</th>\n",
              "      <td>tracy</td>\n",
              "      <td>70.01</td>\n",
              "      <td>136.46</td>\n",
              "    </tr>\n",
              "    <tr>\n",
              "      <th>26</th>\n",
              "      <td>john</td>\n",
              "      <td>67.90</td>\n",
              "      <td>112.37</td>\n",
              "    </tr>\n",
              "    <tr>\n",
              "      <th>27</th>\n",
              "      <td>simon</td>\n",
              "      <td>67.90</td>\n",
              "      <td>112.37</td>\n",
              "    </tr>\n",
              "    <tr>\n",
              "      <th>28</th>\n",
              "      <td>jacob</td>\n",
              "      <td>66.78</td>\n",
              "      <td>120.67</td>\n",
              "    </tr>\n",
              "    <tr>\n",
              "      <th>29</th>\n",
              "      <td>cindy</td>\n",
              "      <td>66.49</td>\n",
              "      <td>127.45</td>\n",
              "    </tr>\n",
              "    <tr>\n",
              "      <th>30</th>\n",
              "      <td>ivan</td>\n",
              "      <td>67.62</td>\n",
              "      <td>114.14</td>\n",
              "    </tr>\n",
              "    <tr>\n",
              "      <th>31</th>\n",
              "      <td>simon</td>\n",
              "      <td>67.90</td>\n",
              "      <td>112.37</td>\n",
              "    </tr>\n",
              "    <tr>\n",
              "      <th>32</th>\n",
              "      <td>jacob</td>\n",
              "      <td>66.78</td>\n",
              "      <td>120.67</td>\n",
              "    </tr>\n",
              "    <tr>\n",
              "      <th>33</th>\n",
              "      <td>cindy</td>\n",
              "      <td>66.49</td>\n",
              "      <td>127.45</td>\n",
              "    </tr>\n",
              "    <tr>\n",
              "      <th>34</th>\n",
              "      <td>ivan</td>\n",
              "      <td>67.62</td>\n",
              "      <td>114.14</td>\n",
              "    </tr>\n",
              "    <tr>\n",
              "      <th>35</th>\n",
              "      <td>simon</td>\n",
              "      <td>67.90</td>\n",
              "      <td>112.37</td>\n",
              "    </tr>\n",
              "    <tr>\n",
              "      <th>36</th>\n",
              "      <td>jacob</td>\n",
              "      <td>66.78</td>\n",
              "      <td>120.67</td>\n",
              "    </tr>\n",
              "    <tr>\n",
              "      <th>37</th>\n",
              "      <td>cindy</td>\n",
              "      <td>66.49</td>\n",
              "      <td>127.45</td>\n",
              "    </tr>\n",
              "    <tr>\n",
              "      <th>38</th>\n",
              "      <td>ivan</td>\n",
              "      <td>67.62</td>\n",
              "      <td>114.14</td>\n",
              "    </tr>\n",
              "  </tbody>\n",
              "</table>\n",
              "</div>"
            ],
            "text/plain": [
              "     name  height  weight\n",
              "0    alex   65.78  112.99\n",
              "1    ajay   71.52  136.49\n",
              "2   alice   69.40  153.03\n",
              "3    ravi   68.22  142.34\n",
              "4     joe   67.79  144.30\n",
              "5    alex   65.78  112.99\n",
              "6    ajay   71.52  136.49\n",
              "7   alice   69.40  153.03\n",
              "8    ravi   68.22  142.34\n",
              "9     joe   67.79  144.30\n",
              "10   alex   65.78  112.99\n",
              "11   ajay   71.52  136.49\n",
              "12  alice   69.40  153.03\n",
              "13   ravi   68.22  142.34\n",
              "14    joe   67.79  144.30\n",
              "15   jack   68.70  123.30\n",
              "16    tom   69.80  141.49\n",
              "17  tracy   70.01  136.46\n",
              "18   john   67.90  112.37\n",
              "19   jack   68.70  123.30\n",
              "20    tom   69.80  141.49\n",
              "21  tracy   70.01  136.46\n",
              "22   john   67.90  112.37\n",
              "23   jack   68.70  123.30\n",
              "24    tom   69.80  141.49\n",
              "25  tracy   70.01  136.46\n",
              "26   john   67.90  112.37\n",
              "27  simon   67.90  112.37\n",
              "28  jacob   66.78  120.67\n",
              "29  cindy   66.49  127.45\n",
              "30   ivan   67.62  114.14\n",
              "31  simon   67.90  112.37\n",
              "32  jacob   66.78  120.67\n",
              "33  cindy   66.49  127.45\n",
              "34   ivan   67.62  114.14\n",
              "35  simon   67.90  112.37\n",
              "36  jacob   66.78  120.67\n",
              "37  cindy   66.49  127.45\n",
              "38   ivan   67.62  114.14"
            ]
          },
          "metadata": {
            "tags": []
          },
          "execution_count": 65
        }
      ]
    },
    {
      "cell_type": "code",
      "metadata": {
        "id": "onQLCCoju_KR",
        "colab": {
          "base_uri": "https://localhost:8080/",
          "height": 1000
        },
        "outputId": "db1eabed-0e4b-4270-d1fd-1f2429aafa77"
      },
      "source": [
        "log(\"Transform phase Started\")\n",
        "transformed_data = transform(extracted_data)\n",
        "log(\"Transform phase Ended\")\n",
        "transformed_data "
      ],
      "execution_count": 67,
      "outputs": [
        {
          "output_type": "execute_result",
          "data": {
            "text/html": [
              "<div>\n",
              "<style scoped>\n",
              "    .dataframe tbody tr th:only-of-type {\n",
              "        vertical-align: middle;\n",
              "    }\n",
              "\n",
              "    .dataframe tbody tr th {\n",
              "        vertical-align: top;\n",
              "    }\n",
              "\n",
              "    .dataframe thead th {\n",
              "        text-align: right;\n",
              "    }\n",
              "</style>\n",
              "<table border=\"1\" class=\"dataframe\">\n",
              "  <thead>\n",
              "    <tr style=\"text-align: right;\">\n",
              "      <th></th>\n",
              "      <th>name</th>\n",
              "      <th>height</th>\n",
              "      <th>weight</th>\n",
              "    </tr>\n",
              "  </thead>\n",
              "  <tbody>\n",
              "    <tr>\n",
              "      <th>0</th>\n",
              "      <td>alex</td>\n",
              "      <td>0.04</td>\n",
              "      <td>23.25</td>\n",
              "    </tr>\n",
              "    <tr>\n",
              "      <th>1</th>\n",
              "      <td>ajay</td>\n",
              "      <td>0.05</td>\n",
              "      <td>28.08</td>\n",
              "    </tr>\n",
              "    <tr>\n",
              "      <th>2</th>\n",
              "      <td>alice</td>\n",
              "      <td>0.04</td>\n",
              "      <td>31.48</td>\n",
              "    </tr>\n",
              "    <tr>\n",
              "      <th>3</th>\n",
              "      <td>ravi</td>\n",
              "      <td>0.04</td>\n",
              "      <td>29.28</td>\n",
              "    </tr>\n",
              "    <tr>\n",
              "      <th>4</th>\n",
              "      <td>joe</td>\n",
              "      <td>0.04</td>\n",
              "      <td>29.69</td>\n",
              "    </tr>\n",
              "    <tr>\n",
              "      <th>5</th>\n",
              "      <td>alex</td>\n",
              "      <td>0.04</td>\n",
              "      <td>23.25</td>\n",
              "    </tr>\n",
              "    <tr>\n",
              "      <th>6</th>\n",
              "      <td>ajay</td>\n",
              "      <td>0.05</td>\n",
              "      <td>28.08</td>\n",
              "    </tr>\n",
              "    <tr>\n",
              "      <th>7</th>\n",
              "      <td>alice</td>\n",
              "      <td>0.04</td>\n",
              "      <td>31.48</td>\n",
              "    </tr>\n",
              "    <tr>\n",
              "      <th>8</th>\n",
              "      <td>ravi</td>\n",
              "      <td>0.04</td>\n",
              "      <td>29.28</td>\n",
              "    </tr>\n",
              "    <tr>\n",
              "      <th>9</th>\n",
              "      <td>joe</td>\n",
              "      <td>0.04</td>\n",
              "      <td>29.69</td>\n",
              "    </tr>\n",
              "    <tr>\n",
              "      <th>10</th>\n",
              "      <td>alex</td>\n",
              "      <td>0.04</td>\n",
              "      <td>23.25</td>\n",
              "    </tr>\n",
              "    <tr>\n",
              "      <th>11</th>\n",
              "      <td>ajay</td>\n",
              "      <td>0.05</td>\n",
              "      <td>28.08</td>\n",
              "    </tr>\n",
              "    <tr>\n",
              "      <th>12</th>\n",
              "      <td>alice</td>\n",
              "      <td>0.04</td>\n",
              "      <td>31.48</td>\n",
              "    </tr>\n",
              "    <tr>\n",
              "      <th>13</th>\n",
              "      <td>ravi</td>\n",
              "      <td>0.04</td>\n",
              "      <td>29.28</td>\n",
              "    </tr>\n",
              "    <tr>\n",
              "      <th>14</th>\n",
              "      <td>joe</td>\n",
              "      <td>0.04</td>\n",
              "      <td>29.69</td>\n",
              "    </tr>\n",
              "    <tr>\n",
              "      <th>15</th>\n",
              "      <td>jack</td>\n",
              "      <td>0.04</td>\n",
              "      <td>25.37</td>\n",
              "    </tr>\n",
              "    <tr>\n",
              "      <th>16</th>\n",
              "      <td>tom</td>\n",
              "      <td>0.04</td>\n",
              "      <td>29.11</td>\n",
              "    </tr>\n",
              "    <tr>\n",
              "      <th>17</th>\n",
              "      <td>tracy</td>\n",
              "      <td>0.05</td>\n",
              "      <td>28.08</td>\n",
              "    </tr>\n",
              "    <tr>\n",
              "      <th>18</th>\n",
              "      <td>john</td>\n",
              "      <td>0.04</td>\n",
              "      <td>23.12</td>\n",
              "    </tr>\n",
              "    <tr>\n",
              "      <th>19</th>\n",
              "      <td>jack</td>\n",
              "      <td>0.04</td>\n",
              "      <td>25.37</td>\n",
              "    </tr>\n",
              "    <tr>\n",
              "      <th>20</th>\n",
              "      <td>tom</td>\n",
              "      <td>0.04</td>\n",
              "      <td>29.11</td>\n",
              "    </tr>\n",
              "    <tr>\n",
              "      <th>21</th>\n",
              "      <td>tracy</td>\n",
              "      <td>0.05</td>\n",
              "      <td>28.08</td>\n",
              "    </tr>\n",
              "    <tr>\n",
              "      <th>22</th>\n",
              "      <td>john</td>\n",
              "      <td>0.04</td>\n",
              "      <td>23.12</td>\n",
              "    </tr>\n",
              "    <tr>\n",
              "      <th>23</th>\n",
              "      <td>jack</td>\n",
              "      <td>0.04</td>\n",
              "      <td>25.37</td>\n",
              "    </tr>\n",
              "    <tr>\n",
              "      <th>24</th>\n",
              "      <td>tom</td>\n",
              "      <td>0.04</td>\n",
              "      <td>29.11</td>\n",
              "    </tr>\n",
              "    <tr>\n",
              "      <th>25</th>\n",
              "      <td>tracy</td>\n",
              "      <td>0.05</td>\n",
              "      <td>28.08</td>\n",
              "    </tr>\n",
              "    <tr>\n",
              "      <th>26</th>\n",
              "      <td>john</td>\n",
              "      <td>0.04</td>\n",
              "      <td>23.12</td>\n",
              "    </tr>\n",
              "    <tr>\n",
              "      <th>27</th>\n",
              "      <td>simon</td>\n",
              "      <td>0.04</td>\n",
              "      <td>23.12</td>\n",
              "    </tr>\n",
              "    <tr>\n",
              "      <th>28</th>\n",
              "      <td>jacob</td>\n",
              "      <td>0.04</td>\n",
              "      <td>24.83</td>\n",
              "    </tr>\n",
              "    <tr>\n",
              "      <th>29</th>\n",
              "      <td>cindy</td>\n",
              "      <td>0.04</td>\n",
              "      <td>26.22</td>\n",
              "    </tr>\n",
              "    <tr>\n",
              "      <th>30</th>\n",
              "      <td>ivan</td>\n",
              "      <td>0.04</td>\n",
              "      <td>23.48</td>\n",
              "    </tr>\n",
              "    <tr>\n",
              "      <th>31</th>\n",
              "      <td>simon</td>\n",
              "      <td>0.04</td>\n",
              "      <td>23.12</td>\n",
              "    </tr>\n",
              "    <tr>\n",
              "      <th>32</th>\n",
              "      <td>jacob</td>\n",
              "      <td>0.04</td>\n",
              "      <td>24.83</td>\n",
              "    </tr>\n",
              "    <tr>\n",
              "      <th>33</th>\n",
              "      <td>cindy</td>\n",
              "      <td>0.04</td>\n",
              "      <td>26.22</td>\n",
              "    </tr>\n",
              "    <tr>\n",
              "      <th>34</th>\n",
              "      <td>ivan</td>\n",
              "      <td>0.04</td>\n",
              "      <td>23.48</td>\n",
              "    </tr>\n",
              "    <tr>\n",
              "      <th>35</th>\n",
              "      <td>simon</td>\n",
              "      <td>0.04</td>\n",
              "      <td>23.12</td>\n",
              "    </tr>\n",
              "    <tr>\n",
              "      <th>36</th>\n",
              "      <td>jacob</td>\n",
              "      <td>0.04</td>\n",
              "      <td>24.83</td>\n",
              "    </tr>\n",
              "    <tr>\n",
              "      <th>37</th>\n",
              "      <td>cindy</td>\n",
              "      <td>0.04</td>\n",
              "      <td>26.22</td>\n",
              "    </tr>\n",
              "    <tr>\n",
              "      <th>38</th>\n",
              "      <td>ivan</td>\n",
              "      <td>0.04</td>\n",
              "      <td>23.48</td>\n",
              "    </tr>\n",
              "  </tbody>\n",
              "</table>\n",
              "</div>"
            ],
            "text/plain": [
              "     name  height  weight\n",
              "0    alex    0.04   23.25\n",
              "1    ajay    0.05   28.08\n",
              "2   alice    0.04   31.48\n",
              "3    ravi    0.04   29.28\n",
              "4     joe    0.04   29.69\n",
              "5    alex    0.04   23.25\n",
              "6    ajay    0.05   28.08\n",
              "7   alice    0.04   31.48\n",
              "8    ravi    0.04   29.28\n",
              "9     joe    0.04   29.69\n",
              "10   alex    0.04   23.25\n",
              "11   ajay    0.05   28.08\n",
              "12  alice    0.04   31.48\n",
              "13   ravi    0.04   29.28\n",
              "14    joe    0.04   29.69\n",
              "15   jack    0.04   25.37\n",
              "16    tom    0.04   29.11\n",
              "17  tracy    0.05   28.08\n",
              "18   john    0.04   23.12\n",
              "19   jack    0.04   25.37\n",
              "20    tom    0.04   29.11\n",
              "21  tracy    0.05   28.08\n",
              "22   john    0.04   23.12\n",
              "23   jack    0.04   25.37\n",
              "24    tom    0.04   29.11\n",
              "25  tracy    0.05   28.08\n",
              "26   john    0.04   23.12\n",
              "27  simon    0.04   23.12\n",
              "28  jacob    0.04   24.83\n",
              "29  cindy    0.04   26.22\n",
              "30   ivan    0.04   23.48\n",
              "31  simon    0.04   23.12\n",
              "32  jacob    0.04   24.83\n",
              "33  cindy    0.04   26.22\n",
              "34   ivan    0.04   23.48\n",
              "35  simon    0.04   23.12\n",
              "36  jacob    0.04   24.83\n",
              "37  cindy    0.04   26.22\n",
              "38   ivan    0.04   23.48"
            ]
          },
          "metadata": {
            "tags": []
          },
          "execution_count": 67
        }
      ]
    },
    {
      "cell_type": "code",
      "metadata": {
        "id": "DM94S948u_KS"
      },
      "source": [
        "log(\"Load phase Started\")\n",
        "load(targetfile,transformed_data)\n",
        "log(\"Load phase Ended\")"
      ],
      "execution_count": 68,
      "outputs": []
    },
    {
      "cell_type": "code",
      "metadata": {
        "id": "Gogjci6lu_KV"
      },
      "source": [
        "log(\"ETL Job Ended\")"
      ],
      "execution_count": 69,
      "outputs": []
    },
    {
      "cell_type": "markdown",
      "metadata": {
        "id": "YS0aPCbOu_KW"
      },
      "source": [
        "# Exercise\n"
      ]
    },
    {
      "cell_type": "markdown",
      "metadata": {
        "id": "5imufhKTu_KX"
      },
      "source": [
        "Using the example above complete the exercise below.\n"
      ]
    },
    {
      "cell_type": "markdown",
      "metadata": {
        "id": "wxSmeII4u_KY"
      },
      "source": [
        "## Download Files\n"
      ]
    },
    {
      "cell_type": "code",
      "metadata": {
        "id": "mDWV5nCJu_KZ",
        "colab": {
          "base_uri": "https://localhost:8080/"
        },
        "outputId": "0f30f5a9-c159-4f2a-8d04-64ffff3146c7"
      },
      "source": [
        "!wget https://cf-courses-data.s3.us.cloud-object-storage.appdomain.cloud/IBMDeveloperSkillsNetwork-PY0221EN-SkillsNetwork/labs/module%206/Lab%20-%20Extract%20Transform%20Load/data/datasource.zip"
      ],
      "execution_count": 70,
      "outputs": [
        {
          "output_type": "stream",
          "text": [
            "--2021-06-08 05:34:09--  https://cf-courses-data.s3.us.cloud-object-storage.appdomain.cloud/IBMDeveloperSkillsNetwork-PY0221EN-SkillsNetwork/labs/module%206/Lab%20-%20Extract%20Transform%20Load/data/datasource.zip\n",
            "Resolving cf-courses-data.s3.us.cloud-object-storage.appdomain.cloud (cf-courses-data.s3.us.cloud-object-storage.appdomain.cloud)... 169.63.118.104\n",
            "Connecting to cf-courses-data.s3.us.cloud-object-storage.appdomain.cloud (cf-courses-data.s3.us.cloud-object-storage.appdomain.cloud)|169.63.118.104|:443... connected.\n",
            "HTTP request sent, awaiting response... 200 OK\n",
            "Length: 4249 (4.1K) [application/zip]\n",
            "Saving to: ‘datasource.zip’\n",
            "\n",
            "datasource.zip      100%[===================>]   4.15K  --.-KB/s    in 0s      \n",
            "\n",
            "2021-06-08 05:34:09 (732 MB/s) - ‘datasource.zip’ saved [4249/4249]\n",
            "\n"
          ],
          "name": "stdout"
        }
      ]
    },
    {
      "cell_type": "markdown",
      "metadata": {
        "id": "SgV1uYydu_Kf"
      },
      "source": [
        "## Unzip Files\n"
      ]
    },
    {
      "cell_type": "code",
      "metadata": {
        "id": "mpPVyTppu_Kg",
        "colab": {
          "base_uri": "https://localhost:8080/"
        },
        "outputId": "69f0c243-9d56-436b-c988-9fd25deeb271"
      },
      "source": [
        "!unzip datasource.zip -d dealership_data"
      ],
      "execution_count": 71,
      "outputs": [
        {
          "output_type": "stream",
          "text": [
            "Archive:  datasource.zip\n",
            "  inflating: dealership_data/used_car_prices1.csv  \n",
            "  inflating: dealership_data/used_car_prices2.csv  \n",
            "  inflating: dealership_data/used_car_prices3.csv  \n",
            "  inflating: dealership_data/used_car_prices1.json  \n",
            "  inflating: dealership_data/used_car_prices2.json  \n",
            "  inflating: dealership_data/used_car_prices3.json  \n",
            "  inflating: dealership_data/used_car_prices1.xml  \n",
            "  inflating: dealership_data/used_car_prices2.xml  \n",
            "  inflating: dealership_data/used_car_prices3.xml  \n"
          ],
          "name": "stdout"
        }
      ]
    },
    {
      "cell_type": "markdown",
      "metadata": {
        "id": "UZwlVGGNu_Kh"
      },
      "source": [
        "## About the Data\n"
      ]
    },
    {
      "cell_type": "markdown",
      "metadata": {
        "id": "R5KEJ-IYu_Ki"
      },
      "source": [
        "The file `dealership_data` contains CSV, JSON, and XML files for used car data which contain features named `car_model`, `year_of_manufacture`, `price`, and `fuel`.\n"
      ]
    },
    {
      "cell_type": "markdown",
      "metadata": {
        "id": "SzRqEakTu_Kj"
      },
      "source": [
        "## Set Paths\n"
      ]
    },
    {
      "cell_type": "code",
      "metadata": {
        "id": "MZDN6C5ju_Kk"
      },
      "source": [
        "tmpfile    = \"dealership_temp.tmp\"               # file used to store all extracted data\n",
        "logfile    = \"dealership_logfile.txt\"            # all event logs will be stored in this file\n",
        "targetfile = \"dealership_transformed_data.csv\"   # file where transformed data is stored"
      ],
      "execution_count": 72,
      "outputs": []
    },
    {
      "cell_type": "markdown",
      "metadata": {
        "id": "wys7RMI6u_Kk"
      },
      "source": [
        "## Extract\n"
      ]
    },
    {
      "cell_type": "markdown",
      "metadata": {
        "id": "moUi4YVnu_Kl"
      },
      "source": [
        "### CSV Extract Function\n"
      ]
    },
    {
      "cell_type": "code",
      "metadata": {
        "id": "tU6DOhc5u_Km"
      },
      "source": [
        "# Add the CSV extract function below\n",
        "def csv_files(data):\n",
        "  dataframe= pd.read_csv(data)\n",
        "  return dataframe"
      ],
      "execution_count": 73,
      "outputs": []
    },
    {
      "cell_type": "markdown",
      "metadata": {
        "id": "5T3uJBN4u_Kn"
      },
      "source": [
        "<details><summary>Click here for the solution</summary>\n",
        "    \n",
        "```\n",
        "    \n",
        "def extract_from_csv(file_to_process):\n",
        "    dataframe = pd.read_csv(file_to_process)\n",
        "    return dataframe\n",
        "```\n",
        "</details>\n"
      ]
    },
    {
      "cell_type": "markdown",
      "metadata": {
        "id": "mTKuL60iu_Ko"
      },
      "source": [
        "### JSON Extract Function\n"
      ]
    },
    {
      "cell_type": "code",
      "metadata": {
        "id": "v9WO1xtfu_Kp"
      },
      "source": [
        "def json_file(data):\n",
        "  dataframe = pd.read_json(data,lines=1)\n",
        "  return dataframe"
      ],
      "execution_count": 77,
      "outputs": []
    },
    {
      "cell_type": "markdown",
      "metadata": {
        "id": "VYeELGdru_Kq"
      },
      "source": [
        "<details><summary>Click here for the solution</summary>\n",
        "    \n",
        "```\n",
        "    \n",
        "def extract_from_json(file_to_process):\n",
        "    dataframe = pd.read_json(file_to_process,lines=True)\n",
        "    return dataframe\n",
        "```\n",
        "</details>\n"
      ]
    },
    {
      "cell_type": "markdown",
      "metadata": {
        "id": "9fn2z3Lnu_Kr"
      },
      "source": [
        "### XML Extract Function\n"
      ]
    },
    {
      "cell_type": "code",
      "metadata": {
        "colab": {
          "base_uri": "https://localhost:8080/"
        },
        "id": "vcylrJE5NoEW",
        "outputId": "cae19df8-8701-48d6-f895-efaed05c36d8"
      },
      "source": [
        "tree = ET.parse('dealership_data/used_car_prices1.xml')\n",
        "root = tree.getroot()\n",
        "for i in root:\n",
        "  print(i.find('car_model').text)\n",
        "  print(i.find('fuel').text)\n"
      ],
      "execution_count": 103,
      "outputs": [
        {
          "output_type": "stream",
          "text": [
            "corolla altis\n",
            "Petrol\n",
            "etios cross\n",
            "Petrol\n",
            "fortuner\n",
            "Diesel\n",
            "fortuner\n",
            "Diesel\n",
            "fortuner\n",
            "Diesel\n",
            "etios liva\n",
            "Diesel\n",
            "innova\n",
            "Petrol\n",
            "fortuner\n",
            "Diesel\n",
            "corolla altis\n",
            "Petrol\n",
            "corolla altis\n",
            "Petrol\n"
          ],
          "name": "stdout"
        }
      ]
    },
    {
      "cell_type": "code",
      "metadata": {
        "id": "2BSzQSM8u_Ks"
      },
      "source": [
        "# Add the XML extract function below, it is the same as the xml extract function above but the column names need to be renamed.\n",
        "def xml_file(data):\n",
        "  dataframe = pd.DataFrame(columns=['car_model','year_of_manufacture','price','fuel'])\n",
        "  tree = ET.parse(data)\n",
        "  root = tree.getroot()\n",
        "  for car in root:\n",
        "    dataframe = dataframe.append({'car_model': car.find('car_model').text,'year_of_manufacture':int(car.find('year_of_manufacture').text),'price':float(car.find('price').text),'fuel':car.find('fuel').text},ignore_index=1)\n",
        "  return dataframe"
      ],
      "execution_count": 115,
      "outputs": []
    },
    {
      "cell_type": "code",
      "metadata": {
        "colab": {
          "base_uri": "https://localhost:8080/",
          "height": 359
        },
        "id": "W-zGFbQFRNb6",
        "outputId": "dcd14256-6033-4828-9423-ff3b7e9429dd"
      },
      "source": [
        "xml_file('dealership_data/used_car_prices1.xml')"
      ],
      "execution_count": 116,
      "outputs": [
        {
          "output_type": "execute_result",
          "data": {
            "text/html": [
              "<div>\n",
              "<style scoped>\n",
              "    .dataframe tbody tr th:only-of-type {\n",
              "        vertical-align: middle;\n",
              "    }\n",
              "\n",
              "    .dataframe tbody tr th {\n",
              "        vertical-align: top;\n",
              "    }\n",
              "\n",
              "    .dataframe thead th {\n",
              "        text-align: right;\n",
              "    }\n",
              "</style>\n",
              "<table border=\"1\" class=\"dataframe\">\n",
              "  <thead>\n",
              "    <tr style=\"text-align: right;\">\n",
              "      <th></th>\n",
              "      <th>car_model</th>\n",
              "      <th>year_of_manufacture</th>\n",
              "      <th>price</th>\n",
              "      <th>fuel</th>\n",
              "    </tr>\n",
              "  </thead>\n",
              "  <tbody>\n",
              "    <tr>\n",
              "      <th>0</th>\n",
              "      <td>corolla altis</td>\n",
              "      <td>2013</td>\n",
              "      <td>10373.134328</td>\n",
              "      <td>Petrol</td>\n",
              "    </tr>\n",
              "    <tr>\n",
              "      <th>1</th>\n",
              "      <td>etios cross</td>\n",
              "      <td>2015</td>\n",
              "      <td>6716.417910</td>\n",
              "      <td>Petrol</td>\n",
              "    </tr>\n",
              "    <tr>\n",
              "      <th>2</th>\n",
              "      <td>fortuner</td>\n",
              "      <td>2014</td>\n",
              "      <td>27985.074627</td>\n",
              "      <td>Diesel</td>\n",
              "    </tr>\n",
              "    <tr>\n",
              "      <th>3</th>\n",
              "      <td>fortuner</td>\n",
              "      <td>2015</td>\n",
              "      <td>35074.626866</td>\n",
              "      <td>Diesel</td>\n",
              "    </tr>\n",
              "    <tr>\n",
              "      <th>4</th>\n",
              "      <td>fortuner</td>\n",
              "      <td>2017</td>\n",
              "      <td>49253.731343</td>\n",
              "      <td>Diesel</td>\n",
              "    </tr>\n",
              "    <tr>\n",
              "      <th>5</th>\n",
              "      <td>etios liva</td>\n",
              "      <td>2014</td>\n",
              "      <td>7089.552239</td>\n",
              "      <td>Diesel</td>\n",
              "    </tr>\n",
              "    <tr>\n",
              "      <th>6</th>\n",
              "      <td>innova</td>\n",
              "      <td>2017</td>\n",
              "      <td>29477.611940</td>\n",
              "      <td>Petrol</td>\n",
              "    </tr>\n",
              "    <tr>\n",
              "      <th>7</th>\n",
              "      <td>fortuner</td>\n",
              "      <td>2010</td>\n",
              "      <td>13805.970149</td>\n",
              "      <td>Diesel</td>\n",
              "    </tr>\n",
              "    <tr>\n",
              "      <th>8</th>\n",
              "      <td>corolla altis</td>\n",
              "      <td>2011</td>\n",
              "      <td>6492.537313</td>\n",
              "      <td>Petrol</td>\n",
              "    </tr>\n",
              "    <tr>\n",
              "      <th>9</th>\n",
              "      <td>corolla altis</td>\n",
              "      <td>2016</td>\n",
              "      <td>21268.656716</td>\n",
              "      <td>Petrol</td>\n",
              "    </tr>\n",
              "  </tbody>\n",
              "</table>\n",
              "</div>"
            ],
            "text/plain": [
              "       car_model year_of_manufacture         price    fuel\n",
              "0  corolla altis                2013  10373.134328  Petrol\n",
              "1    etios cross                2015   6716.417910  Petrol\n",
              "2       fortuner                2014  27985.074627  Diesel\n",
              "3       fortuner                2015  35074.626866  Diesel\n",
              "4       fortuner                2017  49253.731343  Diesel\n",
              "5     etios liva                2014   7089.552239  Diesel\n",
              "6         innova                2017  29477.611940  Petrol\n",
              "7       fortuner                2010  13805.970149  Diesel\n",
              "8  corolla altis                2011   6492.537313  Petrol\n",
              "9  corolla altis                2016  21268.656716  Petrol"
            ]
          },
          "metadata": {
            "tags": []
          },
          "execution_count": 116
        }
      ]
    },
    {
      "cell_type": "code",
      "metadata": {
        "id": "MXXx3Uotu_Kw"
      },
      "source": [
        "def extract():\n",
        "    extracted_data = pd.DataFrame(columns=['car_model','year_of_manufacture','price', 'fuel']) # create an empty data frame to hold extracted data\n",
        "    \n",
        "    #process all csv files\n",
        "    for csvfile in glob.glob(\"dealership_data/*.csv\"):\n",
        "        extracted_data = extracted_data.append(csv_files(csvfile), ignore_index=True)\n",
        "        \n",
        "    #process all json files\n",
        "    for jsonfile in glob.glob(\"dealership_data/*.json\"):\n",
        "        extracted_data = extracted_data.append(json_file(jsonfile), ignore_index=True)\n",
        "    \n",
        "    #process all xml files\n",
        "    for xmlfile in glob.glob(\"dealership_data/*.xml\"):\n",
        "        extracted_data = extracted_data.append(xml_file(xmlfile), ignore_index=True)\n",
        "        \n",
        "    return extracted_data"
      ],
      "execution_count": 117,
      "outputs": []
    },
    {
      "cell_type": "markdown",
      "metadata": {
        "id": "zFtnR5GSu_Kz"
      },
      "source": [
        "## Transform\n"
      ]
    },
    {
      "cell_type": "code",
      "metadata": {
        "id": "-Dowvqt1u_K1"
      },
      "source": [
        "# Add the transform function below\n",
        "def transform(data):\n",
        "  data['price'] = round(data['price'],2)\n",
        "  return data"
      ],
      "execution_count": 121,
      "outputs": []
    },
    {
      "cell_type": "markdown",
      "metadata": {
        "id": "LwaTWlQ6u_K2"
      },
      "source": [
        "## Loading\n"
      ]
    },
    {
      "cell_type": "code",
      "metadata": {
        "id": "ER40_9LUu_K4"
      },
      "source": [
        "# Add the load function below\n",
        "def load(targetfile,transformed_data):\n",
        "  transformed_data.to_csv(targetfile)\n",
        "  "
      ],
      "execution_count": null,
      "outputs": []
    },
    {
      "cell_type": "markdown",
      "metadata": {
        "id": "UN9AVJUQu_K6"
      },
      "source": [
        "## Logging\n"
      ]
    },
    {
      "cell_type": "code",
      "metadata": {
        "id": "ZcnVKCi6u_K_"
      },
      "source": [
        "# Add the log function below\n",
        "def log(message):\n",
        "  time = datetime.now()\n",
        "  time_stamp = time.strftime('%D-%M-%Y-%H:%M:%S')\n",
        "  with open(logfile,'a') as f:\n",
        "    f.write(time_stamp+ ',' + message + '\\n')"
      ],
      "execution_count": 127,
      "outputs": []
    },
    {
      "cell_type": "markdown",
      "metadata": {
        "id": "AsbEQIlou_LB"
      },
      "source": [
        "## Running ETL Process\n"
      ]
    },
    {
      "cell_type": "code",
      "metadata": {
        "id": "1Xsggw2nu_LD"
      },
      "source": [
        "# Log that you have started the ETL process\n",
        "log('ETL begin')\n",
        "\n",
        "# Log that you have started the Extract step\n",
        "log('Extraction Started')\n",
        "# Call the Extract function\n",
        "extract_data = extract()\n",
        "# Log that you have completed the Extract step\n",
        "log('Extraction Ended')\n",
        "\n",
        "# Log that you have started the Transform step\n",
        "\n",
        "log('transform started')\n",
        "# Call the Transform function\n",
        "transformed = transform(extract_data)\n",
        "# Log that you have completed the Transform step\n",
        "\n",
        "log('transformation ended')\n",
        "\n",
        "# Log that you have started the Load step\n",
        "log('loading started')\n",
        "\n",
        "# Call the Load function\n",
        "load(targetfile,transformed)\n",
        "# Log that you have completed the Load step\n",
        "log('loading ended')\n",
        "\n",
        "# Log that you have completed the ETL process\n",
        "log('ETL process ended')"
      ],
      "execution_count": 128,
      "outputs": []
    }
  ]
}